{
  "nbformat": 4,
  "nbformat_minor": 0,
  "metadata": {
    "colab": {
      "provenance": [],
      "authorship_tag": "ABX9TyMCgtcDptoAQmk5TYecs9wG",
      "include_colab_link": true
    },
    "kernelspec": {
      "name": "python3",
      "display_name": "Python 3"
    },
    "language_info": {
      "name": "python"
    }
  },
  "cells": [
    {
      "cell_type": "markdown",
      "metadata": {
        "id": "view-in-github",
        "colab_type": "text"
      },
      "source": [
        "<a href=\"https://colab.research.google.com/github/Leewonyong1/Python-/blob/main/Untitled7.ipynb\" target=\"_parent\"><img src=\"https://colab.research.google.com/assets/colab-badge.svg\" alt=\"Open In Colab\"/></a>"
      ]
    },
    {
      "cell_type": "code",
      "execution_count": 3,
      "metadata": {
        "colab": {
          "base_uri": "https://localhost:8080/"
        },
        "id": "OOHq04joFq9-",
        "outputId": "8caddbe0-9935-4221-84a5-83b54db4b3dc"
      },
      "outputs": [
        {
          "output_type": "execute_result",
          "data": {
            "text/plain": [
              "1024"
            ]
          },
          "metadata": {},
          "execution_count": 3
        }
      ],
      "source": [
        ">>> 4 / 3\n",
        "1.3333333333333333\n",
        ">>> 1 / 2\n",
        "0.5\n",
        ">>> 4 / 2\n",
        "2.0\n",
        ">>>\n",
        ">>> 7 // 3\n",
        "2\n",
        ">>> 7 % 3\n",
        "1\n",
        ">>>\n",
        ">>> 2 ** 10\n",
        "1024"
      ]
    },
    {
      "cell_type": "code",
      "source": [
        "a = 1024\n",
        "print(a)\n",
        "a += 1024\n",
        "print(a)\n",
        "a -= 1024\n",
        "print(a)\n",
        "a *= 4\n",
        "print(a)\n",
        "a /= 22\n",
        "print(a)\n",
        "a //= 2\n",
        "print(a)\n",
        "a %= 1022\n",
        "print(a)\n",
        "a **= 10\n",
        "print(a)\n"
      ],
      "metadata": {
        "colab": {
          "base_uri": "https://localhost:8080/"
        },
        "id": "043VzsxiGBqu",
        "outputId": "36ba2aca-b6ce-4066-cc89-45dc4411bc5d"
      },
      "execution_count": 7,
      "outputs": [
        {
          "output_type": "stream",
          "name": "stdout",
          "text": [
            "1024\n",
            "2048\n",
            "1024\n",
            "4096\n",
            "186.1818181818182\n",
            "93.0\n",
            "93.0\n",
            "4.839823071792932e+19\n"
          ]
        }
      ]
    },
    {
      "cell_type": "code",
      "source": [
        "a = 11+2\n",
        "b=12-2\n",
        "c = 13*2\n",
        "d = 14/2\n",
        "e=152\n",
        "f = 16//2\n",
        "g = 17 % 3\n",
        "print(a, b, c, d, e, f, g)"
      ],
      "metadata": {
        "colab": {
          "base_uri": "https://localhost:8080/"
        },
        "id": "xUIRcclZIHp5",
        "outputId": "70afde8a-f4f7-4214-a5f3-b560584393ce"
      },
      "execution_count": 9,
      "outputs": [
        {
          "output_type": "stream",
          "name": "stdout",
          "text": [
            "13 10 26 7.0 152 8 2\n"
          ]
        }
      ]
    },
    {
      "cell_type": "code",
      "source": [
        "# 관계 연산자(Relational Operators) # 대소 관계와 상등관계를 나타내는 연산자로 결과값이 논리값입니다.\n",
        "a = 10\n",
        "b = 3\n",
        "print(\"10 == 3 =>\", a == b)\n",
        "print(\"10 != 3 =>\", a != b)\n",
        "print(\"10 > 3 =>\", a > b)\n",
        "print(\"10 >= 3 =>\", a >= b)\n",
        "print(\"10 < 3 =>\", a < b)\n",
        "print(\"10 <= 3 =>\", a <= b)\n",
        "print()"
      ],
      "metadata": {
        "colab": {
          "base_uri": "https://localhost:8080/"
        },
        "id": "YQsQfujEHdMM",
        "outputId": "e23ea4b9-fc06-4418-f4e9-abe7c4edebf5"
      },
      "execution_count": 10,
      "outputs": [
        {
          "output_type": "stream",
          "name": "stdout",
          "text": [
            "10 == 3 => False\n",
            "10 != 3 => True\n",
            "10 > 3 => True\n",
            "10 >= 3 => True\n",
            "10 < 3 => False\n",
            "10 <= 3 => False\n",
            "\n"
          ]
        }
      ]
    },
    {
      "cell_type": "code",
      "source": [
        ">>> bin(0b1101 & 0b1001)    # 비트 AND\n",
        "'0b1001'\n",
        ">>> 13 & 9                  # 비트 AND\n",
        "9\n",
        ">>> bin(0b1101 | 0b1001)    # 비트 OR\n",
        "'0b1101'\n",
        ">>> 13 | 9                  # 비트 OR\n",
        "13\n",
        ">>> bin(0b1101 ^ 0b1001)    # 비트 XOR\n",
        "'0b100'\n",
        ">>> 13 ^ 9                  # 비트 XOR\n",
        "4\n",
        ">>> bin(~0b1101)            # 비트 NOT\n",
        "'-0b1110'\n",
        ">>> ~13                     # 비트 NOT\n",
        "-14"
      ],
      "metadata": {
        "colab": {
          "base_uri": "https://localhost:8080/"
        },
        "id": "4Tdx_RtUMR3H",
        "outputId": "00326304-2edf-4ad0-a0b6-316bd7e3fe41"
      },
      "execution_count": 11,
      "outputs": [
        {
          "output_type": "execute_result",
          "data": {
            "text/plain": [
              "-14"
            ]
          },
          "metadata": {},
          "execution_count": 11
        }
      ]
    }
  ]
}