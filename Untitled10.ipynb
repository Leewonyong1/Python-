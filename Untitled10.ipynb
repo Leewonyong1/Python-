{
  "nbformat": 4,
  "nbformat_minor": 0,
  "metadata": {
    "colab": {
      "provenance": [],
      "authorship_tag": "ABX9TyOCg6PA7brEpSMbwBRkFIw5",
      "include_colab_link": true
    },
    "kernelspec": {
      "name": "python3",
      "display_name": "Python 3"
    },
    "language_info": {
      "name": "python"
    }
  },
  "cells": [
    {
      "cell_type": "markdown",
      "metadata": {
        "id": "view-in-github",
        "colab_type": "text"
      },
      "source": [
        "<a href=\"https://colab.research.google.com/github/Leewonyong1/Python-/blob/main/Untitled10.ipynb\" target=\"_parent\"><img src=\"https://colab.research.google.com/assets/colab-badge.svg\" alt=\"Open In Colab\"/></a>"
      ]
    },
    {
      "cell_type": "code",
      "execution_count": 1,
      "metadata": {
        "colab": {
          "base_uri": "https://localhost:8080/"
        },
        "id": "HLuJV7w--CIF",
        "outputId": "05d20b59-a48b-432d-c984-70ce7db9c5f8"
      },
      "outputs": [
        {
          "output_type": "stream",
          "name": "stdout",
          "text": [
            "이름이 맞습니다\n"
          ]
        }
      ],
      "source": [
        "name = \"test\"\n",
        "if name == \"test\":\n",
        "    print(\"이름이 맞습니다\")\n",
        "else:\n",
        "    print(\"이름이 틀립니다.\")"
      ]
    },
    {
      "cell_type": "code",
      "source": [
        "pocket = 500\n",
        "if pocket == 1000:\n",
        "    print(\"복권 구매\")\n",
        "elif pocket ==500:\n",
        "    print(\"껌 구매\")\n",
        "else:\n",
        "    print(\"집이나 가야지\")"
      ],
      "metadata": {
        "id": "LNJz5lZh-DBu"
      },
      "execution_count": null,
      "outputs": []
    },
    {
      "cell_type": "code",
      "source": [
        "a = \"사과\"\n",
        "b = \"바나나\"\n",
        "c = \"치즈\"\n",
        "if a == \"사과\" or b == \"안바나나\":\n",
        "    print(\"사과 이거나 바나나 입니다.\")\n",
        "\n",
        "if a == \"사과\" and b == \"바나나\":\n",
        "    print(\"사과 이고 바나나 입니다.\")\n",
        "\n",
        "if not c == \"사과\":\n",
        "    print(\"사과가 아니어야 여기 들어옵니다.\")"
      ],
      "metadata": {
        "id": "kr9njfMv-DEG"
      },
      "execution_count": null,
      "outputs": []
    },
    {
      "cell_type": "code",
      "source": [
        "a = [1,2,3,4,5,6,7,8,9,10]\n",
        "\n",
        "if 1 in a:\n",
        "    print(\"1 is in a\")\n",
        "\n",
        "if 10 in a:\n",
        "    print(\"10 is in a\")"
      ],
      "metadata": {
        "id": "G5dbML8h-DIm"
      },
      "execution_count": null,
      "outputs": []
    },
    {
      "cell_type": "code",
      "source": [
        "p_class = \"Z\"\n",
        "sel_amount = 79900\n",
        "\n",
        "if p_class == \"A\":\n",
        "  sel_amount *= 0.7\n",
        "  print(sel_amount)\n",
        "elif p_class == \"B\":\n",
        "  sel_amount *= 0.85\n",
        "  print(sel_amount)\n",
        "elif p_class == \"C\":\n",
        "  sel_amount *= 0.92\n",
        "  print(sel_amount)\n",
        "elif p_class == \"Z\":\n",
        "  sel_amount += 5000\n",
        "  print(sel_amount)"
      ],
      "metadata": {
        "id": "ygMIx46v-DKu"
      },
      "execution_count": null,
      "outputs": []
    },
    {
      "cell_type": "code",
      "source": [
        "p_class = \"Z\"\n",
        "sel_amount = 79900\n",
        "\n",
        "if p_class == \"A\":\n",
        "  sel_amount *= 0.7 # 55930.0\n",
        "  print(f'판매가는 {sel_amount}원 입니다.')\n",
        "elif p_class == \"B\":\n",
        "  sel_amount *= 0.85 # 67915.0\n",
        "  print(f'판매가는 {sel_amount}원 입니다.')\n",
        "elif p_class == \"C\":\n",
        "  sel_amount *= 0.92# 84900\n",
        "  print(f'판매가는 {sel_amount}원 입니다.')\n",
        "elif p_class == \"Z\":\n",
        "  sel_amount += 5000 # 84900\n",
        "  print(f'판매가는 {sel_amount}원 입니다.')"
      ],
      "metadata": {
        "id": "OijBIW1S-DMt"
      },
      "execution_count": null,
      "outputs": []
    },
    {
      "cell_type": "code",
      "source": [
        "x = 11\n",
        "\n",
        "if x< 10:\n",
        "  print('x는 10보다 작아!')\n",
        "else:\n",
        "  print('x는 10보다 작지않아!')"
      ],
      "metadata": {
        "id": "kI1oWUiA-DPF"
      },
      "execution_count": null,
      "outputs": []
    },
    {
      "cell_type": "code",
      "source": [
        "x = 3\n",
        "\n",
        "if x < 10:\n",
        "  print('x는 10보다 작아!')\n",
        "  if x%2 == 0:\n",
        "    print('x는 짝수야!')\n",
        "  else:\n",
        "    print('x는 홀수야!')\n",
        "else:\n",
        "  print('x는 10보다 커!')\n",
        "  if x%2 == 0:\n",
        "    print('x는 짝수야!')\n",
        "  else:\n",
        "    print('x는 홀수야!')\n",
        ""
      ],
      "metadata": {
        "id": "r1f6G5xi-DRO"
      },
      "execution_count": null,
      "outputs": []
    },
    {
      "cell_type": "code",
      "source": [
        "x = 3\n",
        "\n",
        "if x<10 and x%2==0:\n",
        "  print('x는 10보다 작으면서 짝수야!')\n",
        "if x<10 and not x%2==0:\n",
        "  print('x는 10보다 작으면서 홀수야!')\n",
        "if not x<10 and x%2==0:\n",
        "  print('x는 10보다 크면서 짝수야!')\n",
        "if not x<10 and not x%2==0:\n",
        "  print('x는 10보다 크면서 홀수야!')"
      ],
      "metadata": {
        "id": "9xJTOEFj-DTO"
      },
      "execution_count": null,
      "outputs": []
    },
    {
      "cell_type": "code",
      "source": [
        "j = 0\n",
        "result1 = 0\n",
        "while True:\n",
        "  if j > 100:\n",
        "    break\n",
        "\n",
        "  j +=1\n",
        "  if j % 2 == 0:\n",
        "    result1 += j\n",
        "\n",
        "print('1번 방법 (break) : {0}'.format(result1))"
      ],
      "metadata": {
        "id": "De3zXwsJ-DmG"
      },
      "execution_count": null,
      "outputs": []
    },
    {
      "cell_type": "code",
      "source": [
        "k = 0\n",
        "result2 = 0\n",
        "while k < 100:\n",
        "  k += 1\n",
        "  if k % 2 != 0:\n",
        "    continue\n",
        "\n",
        "  result2 += k\n",
        "\n",
        "print('2번 방법 (continue) : {0}'.format(result2))\n",
        ""
      ],
      "metadata": {
        "id": "C0k234n4-DqH"
      },
      "execution_count": null,
      "outputs": []
    },
    {
      "cell_type": "code",
      "source": [],
      "metadata": {
        "id": "7OOhndGR-Dr2"
      },
      "execution_count": null,
      "outputs": []
    }
  ]
}