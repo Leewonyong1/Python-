{
  "nbformat": 4,
  "nbformat_minor": 0,
  "metadata": {
    "colab": {
      "provenance": [],
      "authorship_tag": "ABX9TyO7dEikvVHAl7nIfmWpwfZy",
      "include_colab_link": true
    },
    "kernelspec": {
      "name": "python3",
      "display_name": "Python 3"
    },
    "language_info": {
      "name": "python"
    }
  },
  "cells": [
    {
      "cell_type": "markdown",
      "metadata": {
        "id": "view-in-github",
        "colab_type": "text"
      },
      "source": [
        "<a href=\"https://colab.research.google.com/github/Leewonyong1/Python-/blob/main/Untitled9.ipynb\" target=\"_parent\"><img src=\"https://colab.research.google.com/assets/colab-badge.svg\" alt=\"Open In Colab\"/></a>"
      ]
    },
    {
      "cell_type": "code",
      "execution_count": null,
      "metadata": {
        "id": "Dk3ESAgt4Ifq"
      },
      "outputs": [],
      "source": [
        ">>> x = int(input('number : '))\n",
        "number : 123\n",
        ">>> x\n",
        "123\n"
      ]
    },
    {
      "cell_type": "code",
      "source": [
        "\n",
        ">>> x = float(input('number : '))\n",
        "number : 1.23\n",
        ">>> x\n",
        "1.23\n"
      ],
      "metadata": {
        "id": "vEfWmNU54MPW"
      },
      "execution_count": null,
      "outputs": []
    },
    {
      "cell_type": "code",
      "source": [
        "i = 0\n",
        "result = 0\n",
        "while i < 5:\n",
        "    a = input(\"성적 입력 : \")\n",
        "    result += int(a)\n",
        "    i += 1\n",
        "\n",
        "\n",
        "print(f'평균 : {result / 5}')\n",
        "\n"
      ],
      "metadata": {
        "id": "pdINYuNC4MRs"
      },
      "execution_count": null,
      "outputs": []
    },
    {
      "cell_type": "code",
      "source": [
        "test_list = ['one', 'two', 'three']\n",
        "for i in test_list:\n",
        "  print(i)"
      ],
      "metadata": {
        "colab": {
          "base_uri": "https://localhost:8080/"
        },
        "id": "Mjgkz9JW4MV0",
        "outputId": "ab6f5658-237b-4a38-9649-53c4a3f3b776"
      },
      "execution_count": 1,
      "outputs": [
        {
          "output_type": "stream",
          "name": "stdout",
          "text": [
            "one\n",
            "two\n",
            "three\n"
          ]
        }
      ]
    },
    {
      "cell_type": "code",
      "source": [
        "\n",
        "for i in range(1, 10):\n",
        "  print(i)"
      ],
      "metadata": {
        "id": "ofAOM17K4MX8"
      },
      "execution_count": null,
      "outputs": []
    },
    {
      "cell_type": "code",
      "source": [
        "result = 0\n",
        "for a in range(1, 101):  #1 ~ 100\n",
        "\n",
        "  result = result + a\n",
        "  print(f\"{a} {result}\")\n",
        "\n",
        "print(result)"
      ],
      "metadata": {
        "id": "sYkP-Qf94MZz"
      },
      "execution_count": null,
      "outputs": []
    },
    {
      "cell_type": "code",
      "source": [
        "index = 0\n",
        "s = \"BlockDMask\"\n",
        "for a in s:\n",
        "    if a == 'k':\n",
        "        break    # 'k'를 찾았으니 for문에서 나와랏!\n",
        "\n",
        "    index = index + 1\n",
        "\n",
        "\n",
        "print(index)    # 'k'가 첫번째로 존재하는 위치 출력"
      ],
      "metadata": {
        "id": "3RR5so2g4W7s"
      },
      "execution_count": null,
      "outputs": []
    },
    {
      "cell_type": "code",
      "source": [
        "result = 0\n",
        "for a in range(1,101):  # 1 ~ 100\n",
        "    result = result + a    # a를 더해주고\n",
        "\n",
        "    if result > 100:    # result가 100이 넘었을때\n",
        "        print(a)        # 그때의 a값을 출력\n",
        "        break\n",
        "\n",
        "print(result)\n"
      ],
      "metadata": {
        "id": "fwDbZuin4W-E"
      },
      "execution_count": null,
      "outputs": []
    },
    {
      "cell_type": "code",
      "source": [
        "student = [180, 170, 164, 199, 182, 172, 177]\n",
        "for a in student:\n",
        "    if a > 170:\n",
        "        continue  # 키가 170보다 크면 continue\n",
        "\n",
        "    print(a)"
      ],
      "metadata": {
        "id": "mGB_RZBz4XAM"
      },
      "execution_count": null,
      "outputs": []
    },
    {
      "cell_type": "code",
      "source": [
        "\n",
        "result = 0\n",
        "for a in range(1,101):  #1 ~ 100\n",
        "    if a % 2 == 1:      #2로 나누었을때 나머지가 1\n",
        "        result = result + a\n",
        "\n",
        "print(result)\n"
      ],
      "metadata": {
        "id": "l3FzL8My4aOi"
      },
      "execution_count": null,
      "outputs": []
    },
    {
      "cell_type": "code",
      "source": [
        "l = ['Alice' , 'Bob' , 'Charlie']\n",
        "\n",
        "for name in l:\n",
        "    if name == 'Bob':\n",
        "        print('!!BREAK!!')\n",
        "        break\n",
        "    print(name)\n",
        "else:\n",
        "    print('!!FINISH!!')"
      ],
      "metadata": {
        "id": "Mheg6jWQ4aQ6"
      },
      "execution_count": null,
      "outputs": []
    },
    {
      "cell_type": "code",
      "source": [
        "a = ['Alice','Bob','Charlie']\n",
        "\n",
        "for name in a:\n",
        "  print(name)\n",
        "\n",
        "for i, name in enumerate(a):\n",
        "  print(i, name)"
      ],
      "metadata": {
        "id": "aF4eEMyn4aS_"
      },
      "execution_count": null,
      "outputs": []
    },
    {
      "cell_type": "code",
      "source": [
        "print(list(range(0, 10, 3)))\n",
        "# [0, 3, 6, 9]"
      ],
      "metadata": {
        "colab": {
          "base_uri": "https://localhost:8080/"
        },
        "id": "2GrRwr3K6D_g",
        "outputId": "f68c85b9-f60c-4429-a468-4edb2dfb85e3"
      },
      "execution_count": 2,
      "outputs": [
        {
          "output_type": "stream",
          "name": "stdout",
          "text": [
            "[0, 3, 6, 9]\n"
          ]
        }
      ]
    },
    {
      "cell_type": "code",
      "source": [
        "print(list(range(10, 0, -3)))\n",
        "# [10, 7, 4, 1]"
      ],
      "metadata": {
        "colab": {
          "base_uri": "https://localhost:8080/"
        },
        "id": "c_kzv7DK6D9o",
        "outputId": "bd823c30-544c-4b00-fe2e-084181fb727b"
      },
      "execution_count": 3,
      "outputs": [
        {
          "output_type": "stream",
          "name": "stdout",
          "text": [
            "[10, 7, 4, 1]\n"
          ]
        }
      ]
    },
    {
      "cell_type": "code",
      "source": [
        "for i in range(10, 0, -3): print(i)\n",
        "#10\n",
        "#7\n",
        "#4\n",
        "#1"
      ],
      "metadata": {
        "colab": {
          "base_uri": "https://localhost:8080/"
        },
        "id": "30b5NmRr6D7f",
        "outputId": "ae1b30bb-5a9e-4683-bb0c-456c098dc165"
      },
      "execution_count": 4,
      "outputs": [
        {
          "output_type": "stream",
          "name": "stdout",
          "text": [
            "10\n",
            "7\n",
            "4\n",
            "1\n"
          ]
        }
      ]
    },
    {
      "cell_type": "code",
      "source": [
        "test_list = ['Alice', 'Bob', 'Charlie']\n",
        "\n",
        "# Iterate through the list and print each name\n",
        "for name in test_list:\n",
        "    print(name)\n",
        "# Output:\n",
        "# Alice\n",
        "# Bob\n",
        "# Charlie\n",
        "\n",
        "# Iterate through the list using enumerate to also print the index\n",
        "for i, name in enumerate(test_list):\n",
        "    print(i, name)\n",
        "# Output:\n",
        "# 0 Alice\n",
        "# 1 Bob\n",
        "# 2 Charlie\n"
      ],
      "metadata": {
        "colab": {
          "base_uri": "https://localhost:8080/"
        },
        "id": "_o09811Z6xsG",
        "outputId": "3af57926-c55c-43d8-84ac-49d81ef64fca"
      },
      "execution_count": 6,
      "outputs": [
        {
          "output_type": "stream",
          "name": "stdout",
          "text": [
            "Alice\n",
            "Bob\n",
            "Charlie\n",
            "0 Alice\n",
            "1 Bob\n",
            "2 Charlie\n"
          ]
        }
      ]
    },
    {
      "cell_type": "code",
      "source": [
        "test_list = ['Alice', 'Bob', 'Charlie']\n",
        "\n",
        "# Enumerate with start index 1\n",
        "for i, name in enumerate(test_list, 1):\n",
        "    print(i, name)\n",
        "# Output:\n",
        "# 1 Alice\n",
        "# 2 Bob\n",
        "# 3 Charlie\n",
        "\n",
        "# Enumerate with start index 42\n",
        "for i, name in enumerate(test_list, 42):\n",
        "    print(i, name)\n",
        "# Output:\n",
        "# 42 Alice\n",
        "# 43 Bob\n",
        "# 44 Charlie\n"
      ],
      "metadata": {
        "colab": {
          "base_uri": "https://localhost:8080/"
        },
        "id": "204z_Y0X6x0e",
        "outputId": "daad7d00-05bb-4986-a957-ac50b1efca48"
      },
      "execution_count": 7,
      "outputs": [
        {
          "output_type": "stream",
          "name": "stdout",
          "text": [
            "1 Alice\n",
            "2 Bob\n",
            "3 Charlie\n",
            "42 Alice\n",
            "43 Bob\n",
            "44 Charlie\n"
          ]
        }
      ]
    }
  ]
}