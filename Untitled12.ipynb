{
  "nbformat": 4,
  "nbformat_minor": 0,
  "metadata": {
    "colab": {
      "provenance": [],
      "authorship_tag": "ABX9TyOWu3cyVkTeSC0ub7n5PNsf",
      "include_colab_link": true
    },
    "kernelspec": {
      "name": "python3",
      "display_name": "Python 3"
    },
    "language_info": {
      "name": "python"
    }
  },
  "cells": [
    {
      "cell_type": "markdown",
      "metadata": {
        "id": "view-in-github",
        "colab_type": "text"
      },
      "source": [
        "<a href=\"https://colab.research.google.com/github/Leewonyong1/Python-/blob/main/Untitled12.ipynb\" target=\"_parent\"><img src=\"https://colab.research.google.com/assets/colab-badge.svg\" alt=\"Open In Colab\"/></a>"
      ]
    },
    {
      "cell_type": "code",
      "execution_count": 3,
      "metadata": {
        "colab": {
          "base_uri": "https://localhost:8080/"
        },
        "id": "GrA_Kyn6RTN-",
        "outputId": "3ecda971-58c4-4783-f818-eae26f8f9f5d"
      },
      "outputs": [
        {
          "output_type": "stream",
          "name": "stdout",
          "text": [
            "True\n",
            "True\n",
            "False\n",
            "False\n",
            "True\n",
            "True\n"
          ]
        }
      ],
      "source": [
        "text1 = \"네이스123\"\n",
        "text2 = \"123123\"\n",
        "text3 = \"!@#$\"\n",
        "text4 = \"!@#$1234\"\n",
        "text5 = \"wtf\"\n",
        "text6 = \"wtf123123\"\n",
        "print(text1.isalnum())\n",
        "print(text2.isalnum())\n",
        "print(text3.isalnum())\n",
        "print(text4.isalnum())\n",
        "print(text5.isalnum())\n",
        "print(text6.isalnum())\n"
      ]
    },
    {
      "cell_type": "code",
      "source": [
        "text = \"!#$$!@$!!!!!!!!@$#231421234네123^&^#$#이!#12313_+{스\"\n",
        "text1 = \"네이스\"\n",
        "text2 = \"123123\"\n",
        "text3 = \"!@#$\"\n",
        "check = \"\"\n",
        "print(text1.isalpha())\n",
        "print(text2.isalpha())\n",
        "print(text3.isalpha())\n",
        "for i in text:\n",
        "\tif i.isalpha():\n",
        "\t\tcheck += i\n",
        "print(check)\n"
      ],
      "metadata": {
        "colab": {
          "base_uri": "https://localhost:8080/"
        },
        "id": "hoxnFzzHUVlK",
        "outputId": "0fb9a821-4244-4ef1-8d40-6d114f70ea96"
      },
      "execution_count": 4,
      "outputs": [
        {
          "output_type": "stream",
          "name": "stdout",
          "text": [
            "True\n",
            "False\n",
            "False\n",
            "네이스\n"
          ]
        }
      ]
    },
    {
      "cell_type": "code",
      "source": [
        "a = \"BlockDMask\"  # 문자로만 이루어짐\n",
        "b = \"1234Blog\"    # 문자 + 숫자\n",
        "c = \"131231\"      # 숫자\n",
        "d = \"-234\"        # 음수\n",
        "e = \"1.23\"        # 소수점\n",
        "f = \"32\"          # 3의 2제곱 기호 숫자\n",
        "g = \"%\"           # 수학 기호 숫자 2/3\n",
        "h = \"0\"           # 0\n",
        "i = \"0123\"        # 0으로 시작한 숫자\n",
        "\n",
        "# str.isdigit(\"문자열\")\n",
        "print(f\"str.isdigit('{a}'): {a.isdigit()}\")\n",
        "print(f\"str.isdigit('{b}'): {b.isdigit()}\")\n",
        "print(f\"str.isdigit('{c}'): {c.isdigit()}\")\n",
        "print(f\"str.isdigit('{d}'): {d.isdigit()}\")\n",
        "print(f\"str.isdigit('{e}'): {e.isdigit()}\")\n",
        "print(f\"str.isdigit('{f}'): {f.isdigit()}\")\n",
        "print(f\"str.isdigit('{g}'): {g.isdigit()}\")\n",
        "print(f\"str.isdigit('{h}'): {h.isdigit()}\")\n",
        "print(f\"str.isdigit('{i}'): {i.isdigit()}\")\n",
        "print()\n",
        "# \"문자열\".isdigit()\n",
        "print(f\"'{a}'.isdigit(): {a.isdigit()}\")\n",
        "print(f\"'{b}'.isdigit(): {b.isdigit()}\")\n",
        "print(f\"'{c}'.isdigit(): {c.isdigit()}\")\n",
        "print(f\"'{d}'.isdigit(): {d.isdigit()}\")\n",
        "print(f\"'{e}'.isdigit(): {e.isdigit()}\")\n",
        "print(f\"'{f}'.isdigit(): {f.isdigit()}\")\n",
        "print(f\"'{g}'.isdigit(): {g.isdigit()}\")\n",
        "print(f\"'{h}'.isdigit(): {h.isdigit()}\")\n",
        "print(f\"'{i}'.isdigit(): {i.isdigit()}\")\n"
      ],
      "metadata": {
        "colab": {
          "base_uri": "https://localhost:8080/"
        },
        "id": "UUC0xL8WUVoz",
        "outputId": "b215ca29-37b5-4310-a802-e7163cc3bfbe"
      },
      "execution_count": 7,
      "outputs": [
        {
          "output_type": "stream",
          "name": "stdout",
          "text": [
            "str.isdigit('BlockDMask'): False\n",
            "str.isdigit('1234Blog'): False\n",
            "str.isdigit('131231'): True\n",
            "str.isdigit('-234'): False\n",
            "str.isdigit('1.23'): False\n",
            "str.isdigit('32'): True\n",
            "str.isdigit('%'): False\n",
            "str.isdigit('0'): True\n",
            "str.isdigit('0123'): True\n",
            "\n",
            "'BlockDMask'.isdigit(): False\n",
            "'1234Blog'.isdigit(): False\n",
            "'131231'.isdigit(): True\n",
            "'-234'.isdigit(): False\n",
            "'1.23'.isdigit(): False\n",
            "'32'.isdigit(): True\n",
            "'%'.isdigit(): False\n",
            "'0'.isdigit(): True\n",
            "'0123'.isdigit(): True\n"
          ]
        }
      ]
    },
    {
      "cell_type": "code",
      "source": [
        "a = '12345678'\n",
        "print(a.isdigit())\n",
        "print(a.isdecimal())\n",
        "print(a.isnumeric())\n",
        "x = '3²'\n",
        "print(x.isdigit())\n",
        "# True\n",
        "print(x.isdecimal())\n",
        "# False\n",
        "print(x.isnumeric())\n",
        "int(x)\n",
        "# ERROR!!!!\n",
        "\n",
        ""
      ],
      "metadata": {
        "colab": {
          "base_uri": "https://localhost:8080/",
          "height": 331
        },
        "id": "bdcgYCPgUVrK",
        "outputId": "40808a40-7bd4-4580-8452-ce0b34196d72"
      },
      "execution_count": 9,
      "outputs": [
        {
          "output_type": "stream",
          "name": "stdout",
          "text": [
            "True\n",
            "True\n",
            "True\n",
            "True\n",
            "False\n",
            "True\n"
          ]
        },
        {
          "output_type": "error",
          "ename": "ValueError",
          "evalue": "invalid literal for int() with base 10: '3²'",
          "traceback": [
            "\u001b[0;31m---------------------------------------------------------------------------\u001b[0m",
            "\u001b[0;31mValueError\u001b[0m                                Traceback (most recent call last)",
            "\u001b[0;32m<ipython-input-9-17d5c014b9fc>\u001b[0m in \u001b[0;36m<cell line: 11>\u001b[0;34m()\u001b[0m\n\u001b[1;32m      9\u001b[0m \u001b[0;31m# False\u001b[0m\u001b[0;34m\u001b[0m\u001b[0;34m\u001b[0m\u001b[0m\n\u001b[1;32m     10\u001b[0m \u001b[0mprint\u001b[0m\u001b[0;34m(\u001b[0m\u001b[0mx\u001b[0m\u001b[0;34m.\u001b[0m\u001b[0misnumeric\u001b[0m\u001b[0;34m(\u001b[0m\u001b[0;34m)\u001b[0m\u001b[0;34m)\u001b[0m\u001b[0;34m\u001b[0m\u001b[0;34m\u001b[0m\u001b[0m\n\u001b[0;32m---> 11\u001b[0;31m \u001b[0mint\u001b[0m\u001b[0;34m(\u001b[0m\u001b[0mx\u001b[0m\u001b[0;34m)\u001b[0m\u001b[0;34m\u001b[0m\u001b[0;34m\u001b[0m\u001b[0m\n\u001b[0m\u001b[1;32m     12\u001b[0m \u001b[0;31m# ERROR!!!!\u001b[0m\u001b[0;34m\u001b[0m\u001b[0;34m\u001b[0m\u001b[0m\n\u001b[1;32m     13\u001b[0m \u001b[0;34m\u001b[0m\u001b[0m\n",
            "\u001b[0;31mValueError\u001b[0m: invalid literal for int() with base 10: '3²'"
          ]
        }
      ]
    },
    {
      "cell_type": "code",
      "source": [
        "\n",
        "a = \"I Love Python\"\n",
        "\n",
        "print(a.islower())\n",
        "print(a.islower())\n",
        "print(a.upper())\n",
        "print(a.lower())\n",
        "\n",
        "print('\\n\\n')\n",
        "\n",
        "str = \"This is string example...wow!!!\"\n",
        "print(str.islower())\n",
        "print(str.upper())\n",
        "\n",
        "str = \"this is string example...wow!!!\"\n",
        "print(str.islower())\n",
        ""
      ],
      "metadata": {
        "colab": {
          "base_uri": "https://localhost:8080/"
        },
        "id": "D2jKhTbYUVtT",
        "outputId": "2189737a-6258-45de-9ba8-7728e29d2abc"
      },
      "execution_count": 10,
      "outputs": [
        {
          "output_type": "stream",
          "name": "stdout",
          "text": [
            "False\n",
            "False\n",
            "I LOVE PYTHON\n",
            "i love python\n",
            "\n",
            "\n",
            "\n",
            "False\n",
            "THIS IS STRING EXAMPLE...WOW!!!\n",
            "True\n"
          ]
        }
      ]
    },
    {
      "cell_type": "code",
      "source": [
        "\n",
        "str = \"This is string Example...Wow!!!\"\n",
        "print(str.swapcase())\n",
        "\n",
        "str = \"THIsis stRINg eXample...Wow!!!   1234\"\n",
        "print(str.swapcase())"
      ],
      "metadata": {
        "colab": {
          "base_uri": "https://localhost:8080/"
        },
        "id": "eXcPg0iQUVxZ",
        "outputId": "8eab8965-838a-4b4a-cdc1-c9da19eb9c5c"
      },
      "execution_count": 11,
      "outputs": [
        {
          "output_type": "stream",
          "name": "stdout",
          "text": [
            "tHIS IS STRING eXAMPLE...wOW!!!\n",
            "thiSIS STrinG ExAMPLE...wOW!!!   1234\n"
          ]
        }
      ]
    },
    {
      "cell_type": "code",
      "source": [
        "\n",
        "str = \"This Is String Example...Wow!!!\"\n",
        "print(str.istitle())\n",
        "\n",
        "str = \"This is string example...Wow!!!\"\n",
        "print(str.istitle())\n",
        "print(str.title())"
      ],
      "metadata": {
        "colab": {
          "base_uri": "https://localhost:8080/"
        },
        "id": "sly0XbD-UVza",
        "outputId": "66331451-315c-4bcc-fb3c-340f6dfdab59"
      },
      "execution_count": 12,
      "outputs": [
        {
          "output_type": "stream",
          "name": "stdout",
          "text": [
            "True\n",
            "False\n",
            "This Is String Example...Wow!!!\n"
          ]
        }
      ]
    }
  ]
}